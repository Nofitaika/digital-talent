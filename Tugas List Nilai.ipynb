{
 "cells": [
  {
   "cell_type": "markdown",
   "metadata": {},
   "source": [
    "# Soal"
   ]
  },
  {
   "cell_type": "code",
   "execution_count": 1,
   "metadata": {},
   "outputs": [
    {
     "name": "stdout",
     "output_type": "stream",
     "text": [
      "[40, 89, 94, 33, 86, 25, 67, 83, 20, 93, 21, 70, 9, 47, 10, 27, 38, 74, 50, 12, 90, 19, 10, 75, 26, 8, 19, 10, 41, 51, 7, 46, 71, 64, 6, 43, 10, 37, 29, 3, 16, 87, 17, 19, 35, 78, 78, 85, 18, 85, 17, 42, 30, 33, 69, 6, 69, 55, 70, 75, 33, 35, 5, 71, 70, 24, 34, 74, 57, 31, 2, 3, 40, 60, 50, 31, 56, 35, 12, 60, 53, 53, 5, 81, 56, 25, 89, 20, 84, 9, 8, 22, 97, 76, 7, 2, 98, 59, 94, 58, 10, 44, 31, 55, 57, 31, 35, 89, 29, 35, 2, 16, 68, 20, 34, 61, 38, 30, 28, 84, 99, 90, 86, 37, 49, 75, 83, 37, 56, 20, 14, 71, 70, 47, 43, 47, 67, 89, 63, 21, 81, 80, 21, 74, 54, 86, 73, 8, 99, 67, 17, 7, 40, 41, 5, 93, 36, 32, 6, 47, 27, 68, 50, 39, 49, 3, 85, 46, 70, 61, 83, 86, 16, 95, 4, 28, 94, 20, 13, 59, 10, 51, 84, 83, 20, 29, 2, 70, 90, 98, 42, 14, 80, 19, 61, 57, 43, 64, 97, 51, 61, 82, 61, 98, 34, 14, 93, 91, 39, 22, 43, 13, 76, 35, 15, 18, 79, 91, 48, 79, 61, 73, 55, 53, 41, 58, 40, 17, 14, 82, 19, 35, 1, 80, 71, 76, 58, 55, 65, 89, 18, 9, 46, 61, 50, 99, 8, 64, 92, 31]\n"
     ]
    }
   ],
   "source": [
    "import random\n",
    "\n",
    "# GENERATE RANDOM\n",
    "nilaiTugas = []\n",
    "for i in range(250):\n",
    "    nilaiTugas.append(random.randrange(1,100,1))\n",
    "\n",
    "print(nilaiTugas)"
   ]
  },
  {
   "cell_type": "markdown",
   "metadata": {},
   "source": [
    "# 1. Nilai Ganjil"
   ]
  },
  {
   "cell_type": "code",
   "execution_count": 2,
   "metadata": {},
   "outputs": [
    {
     "name": "stdout",
     "output_type": "stream",
     "text": [
      "Nilai ganjil :\n",
      "[1, 3, 5, 7, 9, 13, 15, 17, 19, 21, 25, 27, 29, 31, 33, 35, 37, 39, 41, 43, 47, 49, 51, 53, 55, 57, 59, 61, 63, 65, 67, 69, 71, 73, 75, 79, 81, 83, 85, 87, 89, 91, 93, 95, 97, 99]\n"
     ]
    }
   ],
   "source": [
    "ganjil = []\n",
    "for n in nilaiTugas:\n",
    "    if n%2 == 1 and n not in ganjil:\n",
    "        ganjil.append(n)\n",
    "print(\"Nilai ganjil :\")\n",
    "print(sorted(ganjil))"
   ]
  },
  {
   "cell_type": "markdown",
   "metadata": {},
   "source": [
    "# 2. Nilai > 70"
   ]
  },
  {
   "cell_type": "code",
   "execution_count": 3,
   "metadata": {},
   "outputs": [
    {
     "name": "stdout",
     "output_type": "stream",
     "text": [
      "Nilai yang lebih dari 70 adalah :\n",
      "[71, 73, 74, 75, 76, 78, 79, 80, 81, 82, 83, 84, 85, 86, 87, 89, 90, 91, 92, 93, 94, 95, 97, 98, 99]\n"
     ]
    }
   ],
   "source": [
    "seventy_more = []\n",
    "\n",
    "for n in nilaiTugas:\n",
    "    if n > 70 and n not in seventy_more:\n",
    "        seventy_more.append(n)\n",
    "print(\"Nilai yang lebih dari 70 adalah :\")\n",
    "print(sorted(seventy_more))"
   ]
  },
  {
   "cell_type": "markdown",
   "metadata": {},
   "source": [
    "# 3. Nilai Standar Deviasi"
   ]
  },
  {
   "cell_type": "code",
   "execution_count": 4,
   "metadata": {},
   "outputs": [
    {
     "name": "stdout",
     "output_type": "stream",
     "text": [
      "Standar Deviasi = 28.580380835018605\n"
     ]
    }
   ],
   "source": [
    "# mencari rata - rata nilai\n",
    "total = 0\n",
    "for n in nilaiTugas:\n",
    "    total = total + n \n",
    "rata = total / len(nilaiTugas)\n",
    "\n",
    "#mencari standar deviasi\n",
    "jumlah = 0\n",
    "for n in nilaiTugas:\n",
    "    a = (n - rata)**2\n",
    "    jumlah = jumlah + a\n",
    "stdku = ( jumlah/(len(nilaiTugas)-1))**0.5\n",
    "\n",
    "print(\"Standar Deviasi =\", stdku)"
   ]
  },
  {
   "cell_type": "markdown",
   "metadata": {},
   "source": [
    "# 4. Nilai Maksimum"
   ]
  },
  {
   "cell_type": "code",
   "execution_count": 5,
   "metadata": {},
   "outputs": [
    {
     "name": "stdout",
     "output_type": "stream",
     "text": [
      "Angka maksimum dari Nilai Tugas adalah 99\n"
     ]
    }
   ],
   "source": [
    "maksimal = nilaiTugas[0]\n",
    "m = len(nilaiTugas)\n",
    "for i in range(1,m) :\n",
    "    if nilaiTugas[i] > maksimal:\n",
    "        maksimal = nilaiTugas[i]\n",
    "print(\"Angka maksimum dari Nilai Tugas adalah\", maksimal)"
   ]
  },
  {
   "cell_type": "markdown",
   "metadata": {},
   "source": [
    "# 5. Nilai Minimum"
   ]
  },
  {
   "cell_type": "code",
   "execution_count": 6,
   "metadata": {},
   "outputs": [
    {
     "name": "stdout",
     "output_type": "stream",
     "text": [
      "Angka minimum dari Nilai Tugas adalah 1\n"
     ]
    }
   ],
   "source": [
    "minimal = nilaiTugas[0]\n",
    "m = len(nilaiTugas)\n",
    "for i in range(1,m) :\n",
    "    if nilaiTugas[i] < minimal:\n",
    "        minimal = nilaiTugas[i]\n",
    "print(\"Angka minimum dari Nilai Tugas adalah\", minimal)"
   ]
  },
  {
   "cell_type": "markdown",
   "metadata": {},
   "source": [
    "# 6. Nilai Modus"
   ]
  },
  {
   "cell_type": "code",
   "execution_count": 7,
   "metadata": {},
   "outputs": [
    {
     "name": "stdout",
     "output_type": "stream",
     "text": [
      "Nilai modusnya adalah 35 dengan frekuensi sebanyak 7\n"
     ]
    }
   ],
   "source": [
    "# membuat list nilai single\n",
    "nilai_beda =[]\n",
    "for i in nilaiTugas:\n",
    "    if i not in nilai_beda:\n",
    "        nilai_beda.append(i)\n",
    "# print(nilai_beda)\n",
    "\n",
    "#  mengurutkan nilai single\n",
    "N = len(nilai_beda)\n",
    "for n in range(N-1,0,-1):\n",
    "    for i in range(n):\n",
    "        if nilai_beda[i] > nilai_beda[i+1]:\n",
    "            temp = nilai_beda[i]\n",
    "            nilai_beda[i] = nilai_beda[i+1]\n",
    "            nilai_beda[i+1] = temp\n",
    "# print(nilai_beda)\n",
    "\n",
    "# menghitung frekuensi masing - masing nilai\n",
    "frek = []\n",
    "frek_modus = 0\n",
    "M = len(nilaiTugas)\n",
    "for i in range(0,N):\n",
    "    frek.append(0)\n",
    "    for j in range(0,M):\n",
    "        if nilai_beda[i]==nilaiTugas[j]:\n",
    "            frek[i]= frek[i] + 1\n",
    "    if frek[i] > frek_modus:\n",
    "        frek_modus = frek[i]\n",
    "        modusk = nilai_beda[i]\n",
    "#    print(nilai_beda[i],frek[i])\n",
    "print(\"Nilai modusnya adalah\", modusk, \"dengan frekuensi sebanyak\", frek_modus)"
   ]
  },
  {
   "cell_type": "code",
   "execution_count": null,
   "metadata": {},
   "outputs": [],
   "source": []
  }
 ],
 "metadata": {
  "kernelspec": {
   "display_name": "Python 3",
   "language": "python",
   "name": "python3"
  },
  "language_info": {
   "codemirror_mode": {
    "name": "ipython",
    "version": 3
   },
   "file_extension": ".py",
   "mimetype": "text/x-python",
   "name": "python",
   "nbconvert_exporter": "python",
   "pygments_lexer": "ipython3",
   "version": "3.7.0"
  }
 },
 "nbformat": 4,
 "nbformat_minor": 2
}
