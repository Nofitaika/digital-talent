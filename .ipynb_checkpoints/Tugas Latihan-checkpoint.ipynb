{
 "cells": [
  {
   "cell_type": "code",
   "execution_count": 17,
   "metadata": {},
   "outputs": [
    {
     "name": "stdout",
     "output_type": "stream",
     "text": [
      "Selamat datang di kalkulator BMI\n",
      "Berapa berat badan Anda (dalam kg)? 47\n",
      "Berapa tinggi badan Anda (dalam meter)? 1.72\n",
      "Nilai BMI Anda adalah 15.886965927528395\n",
      "Anda termasuk dalam kategori Severely Underweight\n"
     ]
    }
   ],
   "source": [
    "print(\"Selamat datang di kalkulator BMI\")\n",
    "BB = float(input(\"Berapa berat badan Anda (dalam kg)? \"))\n",
    "TB = float(input(\"Berapa tinggi badan Anda (dalam meter)? \"))\n",
    "BMI = BB/(TB**2)\n",
    "\n",
    "if BMI >= 40:\n",
    "    print(\"Nilai BMI Anda adalah\", BMI)\n",
    "    print(\"Anda termasuk dalam kategori Very Severely Obese\")\n",
    "elif BMI >= 35:\n",
    "    print(\"Nilai BMI Anda adalah\", BMI)\n",
    "    print(\"Anda termasuk dalam kategori Severely Obese\")\n",
    "elif BMI >= 30:\n",
    "    print(\"Nilai BMI Anda adalah\", BMI)\n",
    "    print(\"Anda termasuk dalam kategori Moderately Obese\")\n",
    "elif BMI >= 25:\n",
    "    print(\"Nilai BMI Anda adalah\", BMI)\n",
    "    print(\"Anda termasuk dalam kategori Overweight\")\n",
    "elif BMI >= 18.5:\n",
    "    print(\"Nilai BMI Anda adalah\", BMI)\n",
    "    print(\"Anda termasuk dalam kategori Normal (Healthy Weight)\")\n",
    "elif BMI >= 16:\n",
    "    print(\"Nilai BMI Anda adalah\", BMI)\n",
    "    print(\"Anda termasuk dalam kategori Underweight\")\n",
    "elif BMI >= 15:\n",
    "    print(\"Nilai BMI Anda adalah\", BMI)\n",
    "    print(\"Anda termasuk dalam kategori Severely Underweight\")\n",
    "else :\n",
    "    print(\"Nilai BMI Anda adalah\", BMI)\n",
    "    print(\"Anda termasuk dalam kategori Very Severely Underweight\")\n"
   ]
  },
  {
   "cell_type": "markdown",
   "metadata": {},
   "source": [
    "# Misal\n",
    "Rentang nilai kan biasanya gini nih\n",
    "\n",
    "\">=90 = A\n",
    "\n",
    "80 - 89 = A-\n",
    "\n",
    "75 - 79 = B+\n",
    "\n",
    "70 - 74 = B\""
   ]
  },
  {
   "cell_type": "code",
   "execution_count": 8,
   "metadata": {},
   "outputs": [
    {
     "name": "stdout",
     "output_type": "stream",
     "text": [
      "Berapa nilai kamu??\n",
      "89\n",
      "Nilai Anda adalah A-\n"
     ]
    }
   ],
   "source": [
    "print (\"Berapa nilai kamu??\")\n",
    "nilai =int(input())\n",
    "if nilai >= 90:\n",
    "    print(\"Nilai Anda adalah A\")\n",
    "elif nilai >= 80:\n",
    "    print(\"Nilai Anda adalah A-\")\n",
    "elif nilai >= 75:\n",
    "    print(\"Nilai Anda adalah B+\")\n",
    "elif nilai >= 70:\n",
    "    print(\"Nilai Anda adalah B\")\n",
    "elif nilai >= 67:\n",
    "    print(\"Nilai Anda adalah B-\")\n",
    "elif nilai >= 64:\n",
    "    print(\"Nilai Anda adalah C+\")\n",
    "elif nilai >= 60:\n",
    "    print(\"Nilai Anda adalah C\")\n",
    "elif nilai >= 50:\n",
    "    print(\"Nilai Anda adalah D\")\n",
    "else :\n",
    "    print(\"Nilai Anda adalah E\")"
   ]
  },
  {
   "cell_type": "code",
   "execution_count": 15,
   "metadata": {},
   "outputs": [
    {
     "name": "stdout",
     "output_type": "stream",
     "text": [
      "2.3409\n",
      "20.291340937246357\n"
     ]
    }
   ],
   "source": [
    "a = 1.53\n",
    "b = 47.5\n",
    "c = a**2\n",
    "print(c)\n",
    "d = b/c\n",
    "print(d)"
   ]
  },
  {
   "cell_type": "code",
   "execution_count": null,
   "metadata": {},
   "outputs": [],
   "source": []
  }
 ],
 "metadata": {
  "kernelspec": {
   "display_name": "Python 3",
   "language": "python",
   "name": "python3"
  },
  "language_info": {
   "codemirror_mode": {
    "name": "ipython",
    "version": 3
   },
   "file_extension": ".py",
   "mimetype": "text/x-python",
   "name": "python",
   "nbconvert_exporter": "python",
   "pygments_lexer": "ipython3",
   "version": "3.7.0"
  }
 },
 "nbformat": 4,
 "nbformat_minor": 2
}
