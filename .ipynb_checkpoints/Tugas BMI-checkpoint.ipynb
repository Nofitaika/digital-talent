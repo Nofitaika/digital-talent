{
 "cells": [
  {
   "cell_type": "code",
   "execution_count": 1,
   "metadata": {},
   "outputs": [
    {
     "name": "stdout",
     "output_type": "stream",
     "text": [
      "Selamat datang di kalkulator BMI\n",
      "Berapa berat badan Anda (dalam kg)? 63\n",
      "Berapa tinggi badan Anda (dalam meter)? 1.74\n",
      "Nilai BMI Anda adalah 20.808561236623067\n",
      "Anda termasuk dalam kategori Normal (Healthy Weight)\n"
     ]
    }
   ],
   "source": [
    "# kode untuk menghitung nilai BMI\n",
    "print(\"Selamat datang di kalkulator BMI\")\n",
    "BB = float(input(\"Berapa berat badan Anda (dalam kg)? \"))\n",
    "TB = float(input(\"Berapa tinggi badan Anda (dalam meter)? \"))\n",
    "BMI = BB/(TB**2)\n",
    "\n",
    "if BMI >= 40:\n",
    "    print(\"Nilai BMI Anda adalah\", BMI)\n",
    "    print(\"Anda termasuk dalam kategori Very Severely Obese\")\n",
    "elif BMI >= 35:\n",
    "    print(\"Nilai BMI Anda adalah\", BMI)\n",
    "    print(\"Anda termasuk dalam kategori Severely Obese\")\n",
    "elif BMI >= 30:\n",
    "    print(\"Nilai BMI Anda adalah\", BMI)\n",
    "    print(\"Anda termasuk dalam kategori Moderately Obese\")\n",
    "elif BMI >= 25:\n",
    "    print(\"Nilai BMI Anda adalah\", BMI)\n",
    "    print(\"Anda termasuk dalam kategori Overweight\")\n",
    "elif BMI >= 18.5:\n",
    "    print(\"Nilai BMI Anda adalah\", BMI)\n",
    "    print(\"Anda termasuk dalam kategori Normal (Healthy Weight)\")\n",
    "elif BMI >= 16:\n",
    "    print(\"Nilai BMI Anda adalah\", BMI)\n",
    "    print(\"Anda termasuk dalam kategori Underweight\")\n",
    "elif BMI >= 15:\n",
    "    print(\"Nilai BMI Anda adalah\", BMI)\n",
    "    print(\"Anda termasuk dalam kategori Severely Underweight\")\n",
    "else :\n",
    "    print(\"Nilai BMI Anda adalah\", BMI)\n",
    "    print(\"Anda termasuk dalam kategori Very Severely Underweight\")"
   ]
  },
  {
   "cell_type": "code",
   "execution_count": null,
   "metadata": {},
   "outputs": [],
   "source": []
  }
 ],
 "metadata": {
  "kernelspec": {
   "display_name": "Python 3",
   "language": "python",
   "name": "python3"
  },
  "language_info": {
   "codemirror_mode": {
    "name": "ipython",
    "version": 3
   },
   "file_extension": ".py",
   "mimetype": "text/x-python",
   "name": "python",
   "nbconvert_exporter": "python",
   "pygments_lexer": "ipython3",
   "version": "3.7.0"
  }
 },
 "nbformat": 4,
 "nbformat_minor": 2
}
